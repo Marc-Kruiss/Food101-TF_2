{
 "cells": [
  {
   "cell_type": "markdown",
   "id": "0ea51898-e97d-4af8-8ba1-9d899263d202",
   "metadata": {},
   "source": [
    "# Milestone Project 1: Food Vision Big"
   ]
  },
  {
   "cell_type": "markdown",
   "id": "4931ed0a-bdc9-4cff-a680-252bb8361517",
   "metadata": {},
   "source": [
    "## Check GPU\n",
    "In order to use mixed precision training, we need access to a Card with a Compute-Capability over 7+ (see here https://developer.nvidia.com/cuda-gpus)"
   ]
  },
  {
   "cell_type": "code",
   "execution_count": 2,
   "id": "7701eb1f-7776-4e8d-b5ab-97fe2014707f",
   "metadata": {},
   "outputs": [
    {
     "name": "stdout",
     "output_type": "stream",
     "text": [
      "GPU 0: NVIDIA GeForce GTX 1050 (UUID: GPU-0ca3a9ef-dc58-0ce6-e857-0a1106ed4ced)\n"
     ]
    }
   ],
   "source": [
    "!nvidia-smi -L"
   ]
  },
  {
   "cell_type": "markdown",
   "id": "23137559-4324-4d95-8f9c-324c3901319b",
   "metadata": {},
   "source": [
    "## Get helper functions\n",
    "\n",
    "In the past modules we used a bunch of helper functions to do small tasks required for the notebooks.\n",
    "\n",
    "Rather than rewrite all of these, we can import them from an external file."
   ]
  },
  {
   "cell_type": "code",
   "execution_count": 3,
   "id": "eb7ee861-bccf-4343-a300-f3f523e66361",
   "metadata": {},
   "outputs": [],
   "source": [
    "# Import series of helper functions for the notebook\n",
    "from helper_functions import create_tensorboard_callback, plot_loss_curves, compare_historys"
   ]
  },
  {
   "cell_type": "markdown",
   "id": "368420ef-dd2a-423b-b5d5-a99f4d713202",
   "metadata": {},
   "source": [
    "## Use TensorFlow Datasets to Download Data\n",
    "Overview of TensorFlow Datasets (TFDS), read the guide https://www.tensorflow.org/datasets/overview"
   ]
  },
  {
   "cell_type": "code",
   "execution_count": 4,
   "id": "d961f93c-df01-4162-a014-360cb6a5c45f",
   "metadata": {},
   "outputs": [],
   "source": [
    "# get TensorFlow Datasets\n",
    "import tensorflow_datasets as tfds"
   ]
  },
  {
   "cell_type": "code",
   "execution_count": 5,
   "id": "0ed34da7-d9bd-441f-a9cb-964a002af296",
   "metadata": {},
   "outputs": [
    {
     "name": "stdout",
     "output_type": "stream",
     "text": [
      "352 Datasets available\n",
      "True\n"
     ]
    }
   ],
   "source": [
    "# List all available datasets\n",
    "datasets_list = tfds.list_builders() # get all available TFDS\n",
    "print(len(datasets_list), \"Datasets available\")\n",
    "print(\"food101\" in datasets_list) # is our target dataset in list of TFDS datasets?"
   ]
  },
  {
   "cell_type": "code",
   "execution_count": 7,
   "id": "c856cd08-b0fb-4e41-af64-8aa13cc02327",
   "metadata": {
    "scrolled": true,
    "tags": []
   },
   "outputs": [
    {
     "name": "stdout",
     "output_type": "stream",
     "text": [
      "\u001b[1mDownloading and preparing dataset Unknown size (download: Unknown size, generated: Unknown size, total: Unknown size) to /dataset/food101\\2.0.0...\u001b[0m\n"
     ]
    },
    {
     "data": {
      "application/vnd.jupyter.widget-view+json": {
       "model_id": "3164b39c1af84347852ec2be4ee11859",
       "version_major": 2,
       "version_minor": 0
      },
      "text/plain": [
       "Dl Completed...: 0 url [00:00, ? url/s]"
      ]
     },
     "metadata": {},
     "output_type": "display_data"
    },
    {
     "data": {
      "application/vnd.jupyter.widget-view+json": {
       "model_id": "5ce709e58d094f0d8499cc295cdc8466",
       "version_major": 2,
       "version_minor": 0
      },
      "text/plain": [
       "Dl Size...: 0 MiB [00:00, ? MiB/s]"
      ]
     },
     "metadata": {},
     "output_type": "display_data"
    },
    {
     "data": {
      "application/vnd.jupyter.widget-view+json": {
       "model_id": "9480d843ce4b489ca617f3855b7409f8",
       "version_major": 2,
       "version_minor": 0
      },
      "text/plain": [
       "Extraction completed...: 0 file [00:00, ? file/s]"
      ]
     },
     "metadata": {},
     "output_type": "display_data"
    },
    {
     "data": {
      "application/vnd.jupyter.widget-view+json": {
       "model_id": "",
       "version_major": 2,
       "version_minor": 0
      },
      "text/plain": [
       "Generating splits...:   0%|          | 0/2 [00:00<?, ? splits/s]"
      ]
     },
     "metadata": {},
     "output_type": "display_data"
    },
    {
     "data": {
      "application/vnd.jupyter.widget-view+json": {
       "model_id": "",
       "version_major": 2,
       "version_minor": 0
      },
      "text/plain": [
       "Generating train examples...: 0 examples [00:00, ? examples/s]"
      ]
     },
     "metadata": {},
     "output_type": "display_data"
    },
    {
     "data": {
      "application/vnd.jupyter.widget-view+json": {
       "model_id": "",
       "version_major": 2,
       "version_minor": 0
      },
      "text/plain": [
       "Shuffling \\dataset\\food101\\2.0.0.incompleteIHU8T5\\food101-train.tfrecord*...:   0%|          | 0/75750 [00:00<…"
      ]
     },
     "metadata": {},
     "output_type": "display_data"
    },
    {
     "data": {
      "application/vnd.jupyter.widget-view+json": {
       "model_id": "",
       "version_major": 2,
       "version_minor": 0
      },
      "text/plain": [
       "Generating validation examples...: 0 examples [00:00, ? examples/s]"
      ]
     },
     "metadata": {},
     "output_type": "display_data"
    },
    {
     "data": {
      "application/vnd.jupyter.widget-view+json": {
       "model_id": "",
       "version_major": 2,
       "version_minor": 0
      },
      "text/plain": [
       "Shuffling \\dataset\\food101\\2.0.0.incompleteIHU8T5\\food101-validation.tfrecord*...:   0%|          | 0/25250 [0…"
      ]
     },
     "metadata": {},
     "output_type": "display_data"
    },
    {
     "name": "stdout",
     "output_type": "stream",
     "text": [
      "\u001b[1mDataset food101 downloaded and prepared to /dataset/food101\\2.0.0. Subsequent calls will reuse this data.\u001b[0m\n"
     ]
    }
   ],
   "source": [
    "# Load in the data (takes a few minutes)\n",
    "(train_data, test_data), ds_info = tfds.load(name=\"food101\",\n",
    "                                            split=[\"train\", \"validation\"],\n",
    "                                            data_dir=\"/dataset/\",\n",
    "                                            shuffle_files=True,\n",
    "                                            as_supervised=True, # data gets returned in tuple format (data, label)\n",
    "                                            with_info=True,)"
   ]
  },
  {
   "cell_type": "code",
   "execution_count": 10,
   "id": "91ce15df-b590-420c-a44a-6a0480736d60",
   "metadata": {},
   "outputs": [
    {
     "data": {
      "text/plain": [
       "FeaturesDict({\n",
       "    'image': Image(shape=(None, None, 3), dtype=uint8),\n",
       "    'label': ClassLabel(shape=(), dtype=int64, num_classes=101),\n",
       "})"
      ]
     },
     "execution_count": 10,
     "metadata": {},
     "output_type": "execute_result"
    }
   ],
   "source": [
    "# Features of Food101 from TFDS\n",
    "ds_info.features"
   ]
  },
  {
   "cell_type": "code",
   "execution_count": null,
   "id": "51dc93e7-1ec8-4243-9228-716112b62320",
   "metadata": {},
   "outputs": [],
   "source": [
    "# Get the class names"
   ]
  }
 ],
 "metadata": {
  "kernelspec": {
   "display_name": "Python 3 (ipykernel)",
   "language": "python",
   "name": "python3"
  },
  "language_info": {
   "codemirror_mode": {
    "name": "ipython",
    "version": 3
   },
   "file_extension": ".py",
   "mimetype": "text/x-python",
   "name": "python",
   "nbconvert_exporter": "python",
   "pygments_lexer": "ipython3",
   "version": "3.9.16"
  }
 },
 "nbformat": 4,
 "nbformat_minor": 5
}
